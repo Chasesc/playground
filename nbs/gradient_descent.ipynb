{
 "cells": [
  {
   "cell_type": "code",
   "execution_count": 1,
   "metadata": {},
   "outputs": [],
   "source": [
    "import seaborn as sns\n",
    "import numpy as np\n",
    "\n",
    "from itertools import repeat\n",
    "from random import random"
   ]
  },
  {
   "cell_type": "code",
   "execution_count": 2,
   "metadata": {},
   "outputs": [],
   "source": [
    "y = lambda x : x ** 2\n",
    "y_prime = lambda x : 2 * x"
   ]
  },
  {
   "cell_type": "code",
   "execution_count": 3,
   "metadata": {},
   "outputs": [
    {
     "data": {
      "text/plain": [
       "5"
      ]
     },
     "execution_count": 3,
     "metadata": {},
     "output_type": "execute_result"
    }
   ],
   "source": [
    "rng=5; rng"
   ]
  },
  {
   "cell_type": "code",
   "execution_count": 4,
   "metadata": {},
   "outputs": [
    {
     "data": {
      "text/plain": [
       "[10, 10, 10]"
      ]
     },
     "execution_count": 4,
     "metadata": {},
     "output_type": "execute_result"
    }
   ],
   "source": [
    "list(repeat(10,3))"
   ]
  },
  {
   "cell_type": "code",
   "execution_count": 5,
   "metadata": {},
   "outputs": [
    {
     "data": {
      "text/plain": [
       "array([-5., -4., -3., -2., -1.,  0.,  1.,  2.,  3.,  4.,  5.])"
      ]
     },
     "execution_count": 5,
     "metadata": {},
     "output_type": "execute_result"
    }
   ],
   "source": [
    "X=np.arange(-rng, rng+1, dtype=np.double); X"
   ]
  },
  {
   "cell_type": "code",
   "execution_count": 6,
   "metadata": {},
   "outputs": [],
   "source": [
    "def plot(X, Ys):\n",
    "    ''' X is stable, y changes. '''\n",
    "    X=repeat(X, len(Ys)) # list(repeat(X, 4)) == [X, X, X, X]\n",
    "    return [sns.lineplot(x=x, y=y) for x, y in zip(X, Ys)]\n",
    "\n",
    "def plot_func_and_deriv(X):\n",
    "    ''' plots y() and y_prime() over X '''\n",
    "    return plot(X, [y(X), y_prime(X)])"
   ]
  },
  {
   "cell_type": "code",
   "execution_count": 7,
   "metadata": {},
   "outputs": [
    {
     "data": {
      "text/plain": [
       "[<matplotlib.axes._subplots.AxesSubplot at 0x1274e06d0>,\n",
       " <matplotlib.axes._subplots.AxesSubplot at 0x1274e06d0>]"
      ]
     },
     "execution_count": 7,
     "metadata": {},
     "output_type": "execute_result"
    },
    {
     "data": {
      "image/png": "[encoded data removed]",
      "text/plain": [
       "<Figure size 432x288 with 1 Axes>"
      ]
     },
     "metadata": {
      "needs_background": "light"
     },
     "output_type": "display_data"
    }
   ],
   "source": [
    "plot_func_and_deriv(X)"
   ]
  },
  {
   "cell_type": "code",
   "execution_count": 8,
   "metadata": {},
   "outputs": [],
   "source": [
    "from time import sleep\n",
    "def gradient_descent(n_iterations, learning_rate=0.1, quiet=False):\n",
    "    # INITIALIZE X to a random number in the range [-5, 5]\n",
    "    min_x = random() * 5\n",
    "    min_x = -min_x if random() > 0.5 else min_x\n",
    "    \n",
    "    hist_min_x = [min_x]\n",
    "    hist_y     = [y(min_x)]\n",
    "    \n",
    "    for _ in range(n_iterations):\n",
    "        if not quiet:\n",
    "            print(f'min_x={min_x:3f}\\ty={y(min_x)}')\n",
    "        min_x -= learning_rate * y_prime(min_x)\n",
    "        \n",
    "        hist_min_x.append(min_x)\n",
    "        hist_y.append(y(min_x))\n",
    "        \n",
    "    return min_x, hist_min_x, hist_y"
   ]
  },
  {
   "cell_type": "code",
   "execution_count": 9,
   "metadata": {
    "scrolled": false
   },
   "outputs": [
    {
     "name": "stdout",
     "output_type": "stream",
     "text": [
      "min_x=-2.131742\ty=4.544323198273529\n",
      "min_x=-1.279045\ty=1.6359563513784698\n",
      "min_x=-0.767427\ty=0.5889442864962492\n",
      "min_x=-0.460456\ty=0.21201994313864972\n",
      "min_x=-0.276274\ty=0.07632717952991387\n",
      "min_x=-0.165764\ty=0.027477784630768987\n",
      "min_x=-0.099459\ty=0.009892002467076836\n",
      "min_x=-0.059675\ty=0.00356112088814766\n",
      "min_x=-0.035805\ty=0.0012820035197331576\n",
      "min_x=-0.021483\ty=0.00046152126710393673\n",
      "min_x=-0.012890\ty=0.0001661476561574172\n",
      "min_x=-0.007734\ty=5.981315621667019e-05\n",
      "min_x=-0.004640\ty=2.1532736238001262e-05\n",
      "min_x=-0.002784\ty=7.751785045680455e-06\n",
      "min_x=-0.001671\ty=2.7906426164449634e-06\n",
      "min_x=-0.001002\ty=1.0046313419201867e-06\n",
      "min_x=-0.000601\ty=3.616672830912671e-07\n",
      "min_x=-0.000361\ty=1.3020022191285614e-07\n",
      "min_x=-0.000216\ty=4.6872079888628214e-08\n",
      "min_x=-0.000130\ty=1.6873948759906152e-08\n",
      "min_x=-0.000078\ty=6.074621553566215e-09\n",
      "min_x=-0.000047\ty=2.186863759283837e-09\n",
      "min_x=-0.000028\ty=7.872709533421813e-10\n",
      "min_x=-0.000017\ty=2.8341754320318515e-10\n",
      "min_x=-0.000010\ty=1.0203031555314665e-10\n"
     ]
    },
    {
     "data": {
      "text/plain": [
       "-6.060603402230903e-06"
      ]
     },
     "execution_count": 9,
     "metadata": {},
     "output_type": "execute_result"
    }
   ],
   "source": [
    "gradient_descent(n_iterations=25, learning_rate=0.2, quiet=False)[0]"
   ]
  },
  {
   "cell_type": "code",
   "execution_count": 10,
   "metadata": {},
   "outputs": [
    {
     "name": "stdout",
     "output_type": "stream",
     "text": [
      "min_x=0.136295\ty=0.018576435408536006\n",
      "min_x=0.081777\ty=0.006687516747072963\n",
      "min_x=0.049066\ty=0.002407506028946266\n",
      "min_x=0.029440\ty=0.0008667021704206558\n",
      "min_x=0.017664\ty=0.0003120127813514361\n",
      "min_x=0.010598\ty=0.000112324601286517\n",
      "min_x=0.006359\ty=4.0436856463146115e-05\n",
      "min_x=0.003815\ty=1.4557268326732598e-05\n",
      "min_x=0.002289\ty=5.240616597623733e-06\n",
      "min_x=0.001374\ty=1.886621975144544e-06\n",
      "min_x=0.000824\ty=6.791839110520357e-07\n",
      "min_x=0.000494\ty=2.445062079787329e-07\n",
      "min_x=0.000297\ty=8.802223487234382e-08\n",
      "min_x=0.000178\ty=3.1688004554043775e-08\n",
      "min_x=0.000107\ty=1.1407681639455759e-08\n",
      "min_x=0.000064\ty=4.1067653902040735e-09\n",
      "min_x=0.000038\ty=1.478435540473466e-09\n",
      "min_x=0.000023\ty=5.322367945704477e-10\n",
      "min_x=0.000014\ty=1.9160524604536114e-10\n",
      "min_x=0.000008\ty=6.897788857633003e-11\n",
      "min_x=0.000005\ty=2.4832039887478804e-11\n",
      "min_x=0.000003\ty=8.939534359492369e-12\n",
      "min_x=0.000002\ty=3.2182323694172525e-12\n",
      "min_x=0.000001\ty=1.1585636529902106e-12\n",
      "min_x=0.000001\ty=4.170829150764759e-13\n"
     ]
    },
    {
     "data": {
      "text/plain": [
       "3.874917411088026e-07"
      ]
     },
     "execution_count": 10,
     "metadata": {},
     "output_type": "execute_result"
    }
   ],
   "source": [
    "gradient_descent(n_iterations=25, learning_rate=0.2, quiet=False)[0]"
   ]
  },
  {
   "cell_type": "code",
   "execution_count": null,
   "metadata": {},
   "outputs": [],
   "source": []
  }
 ],
 "metadata": {
  "kernelspec": {
   "display_name": "Python 3",
   "language": "python",
   "name": "python3"
  },
  "language_info": {
   "codemirror_mode": {
    "name": "ipython",
    "version": 3
   },
   "file_extension": ".py",
   "mimetype": "text/x-python",
   "name": "python",
   "nbconvert_exporter": "python",
   "pygments_lexer": "ipython3",
   "version": "3.7.4"
  }
 },
 "nbformat": 4,
 "nbformat_minor": 2
}
