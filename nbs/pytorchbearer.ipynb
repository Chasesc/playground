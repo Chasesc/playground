{
 "cells": [
  {
   "cell_type": "code",
   "execution_count": 1,
   "metadata": {},
   "outputs": [
    {
     "name": "stdout",
     "output_type": "stream",
     "text": [
      "seaborn (0.9.0)\n",
      "pandas (0.25.1)\n",
      "torch (1.3.0)\n",
      "torchvision (0.4.1)\n",
      "torchbearer (0.5.0)\n"
     ]
    }
   ],
   "source": [
    "import seaborn as sns\n",
    "import pandas as pd\n",
    "\n",
    "import torch\n",
    "import torch.nn as nn\n",
    "import torchvision\n",
    "\n",
    "import torchbearer\n",
    "\n",
    "from playground_utils import * # get common imports / vars for all nbs\n",
    "all_module_versions(globals())"
   ]
  },
  {
   "cell_type": "code",
   "execution_count": 2,
   "metadata": {},
   "outputs": [
    {
     "name": "stdout",
     "output_type": "stream",
     "text": [
      "cpu\n"
     ]
    }
   ],
   "source": [
    "save_path = Path('~/Documents/data/torchvision/')\n",
    "\n",
    "DEVICE = print_and_return( torch.device('cuda:0' if torch.cuda.is_available() else 'cpu') )\n",
    "NUM_WORKERS = 0 # print_and_return( os.cpu_count() )\n",
    "BATCH_SIZE  = 256"
   ]
  },
  {
   "cell_type": "code",
   "execution_count": 3,
   "metadata": {},
   "outputs": [
    {
     "name": "stdout",
     "output_type": "stream",
     "text": [
      "Files already downloaded and verified\n",
      "Files already downloaded and verified\n",
      "45000\n",
      "5000\n",
      "10000\n"
     ]
    }
   ],
   "source": [
    "normalize  = torchvision.transforms.Normalize(**IMAGENET_NORMALIZATION)\n",
    "transforms = torchvision.transforms.Compose([torchvision.transforms.ToTensor(),\n",
    "                                             normalize])\n",
    "\n",
    "# DATASETS\n",
    "ds = torchvision.datasets.CIFAR10(str(save_path), train=True,  download=True, transform=transforms)\n",
    "splitter = torchbearer.cv_utils.DatasetValidationSplitter(len(ds), 0.1)\n",
    "\n",
    "train_ds = splitter.get_train_dataset(ds)\n",
    "valid_ds = splitter.get_val_dataset(ds)\n",
    "test_ds  = torchvision.datasets.CIFAR10(str(save_path), train=False, download=True, transform=transforms)\n",
    "\n",
    "# DATALOADERS\n",
    "train_dl = torch.utils.data.DataLoader(train_ds, batch_size=BATCH_SIZE, shuffle=True, num_workers=NUM_WORKERS)\n",
    "valid_dl = torch.utils.data.DataLoader(valid_ds, batch_size=BATCH_SIZE, shuffle=True, num_workers=NUM_WORKERS)\n",
    "test_dl  = torch.utils.data.DataLoader(test_ds, batch_size=BATCH_SIZE, shuffle=False, num_workers=NUM_WORKERS)\n",
    "\n",
    "classes = ds.classes\n",
    "\n",
    "print(len(train_ds))\n",
    "print(len(valid_ds))\n",
    "print(len(test_ds))"
   ]
  },
  {
   "cell_type": "code",
   "execution_count": 4,
   "metadata": {},
   "outputs": [
    {
     "name": "stderr",
     "output_type": "stream",
     "text": [
      "100%|██████████| 45000/45000 [00:07<00:00, 6399.32it/s]\n"
     ]
    },
    {
     "data": {
      "text/plain": [
       "Counter({'frog': 4486,\n",
       "         'airplane': 4480,\n",
       "         'ship': 4506,\n",
       "         'dog': 4483,\n",
       "         'automobile': 4505,\n",
       "         'bird': 4502,\n",
       "         'deer': 4462,\n",
       "         'horse': 4534,\n",
       "         'cat': 4512,\n",
       "         'truck': 4530})"
      ]
     },
     "execution_count": 4,
     "metadata": {},
     "output_type": "execute_result"
    }
   ],
   "source": [
    "get_dataset_distribution(train_ds, classes)"
   ]
  },
  {
   "cell_type": "code",
   "execution_count": 5,
   "metadata": {},
   "outputs": [],
   "source": [
    "??torchbearer.INPUT"
   ]
  },
  {
   "cell_type": "code",
   "execution_count": 6,
   "metadata": {},
   "outputs": [
    {
     "data": {
      "text/plain": [
       "<torchbearer.callbacks.imaging.imaging.MakeGrid at 0x14477fd90>"
      ]
     },
     "execution_count": 6,
     "metadata": {},
     "output_type": "execute_result"
    }
   ],
   "source": [
    "inverse_normalize  = torchvision.transforms.Normalize(**INVERSE_IMAGENET_NORMALIZATION)\n",
    "\n",
    "make_grid = torchbearer.callbacks.imaging.MakeGrid(torchbearer.INPUT, num_images=64,\n",
    "                                                   nrow=8, transform=inverse_normalize)\n",
    "\n",
    "make_grid.on_test().to_pyplot().to_file('sample.png')"
   ]
  },
  {
   "cell_type": "code",
   "execution_count": 7,
   "metadata": {},
   "outputs": [
    {
     "name": "stdout",
     "output_type": "stream",
     "text": [
      "29578\n",
      "138240000\n",
      "# elements per parameter:\n",
      "432\n",
      "16\n",
      "16\n",
      "16\n",
      "4608\n",
      "32\n",
      "32\n",
      "32\n",
      "18432\n",
      "64\n",
      "64\n",
      "64\n",
      "5760\n",
      "10\n"
     ]
    }
   ],
   "source": [
    "class SimpleModel(nn.Module):\n",
    "    def __init__(self):\n",
    "        super(SimpleModel, self).__init__()\n",
    "        self.convs = nn.Sequential(\n",
    "            nn.Conv2d(3, 16, stride=2, kernel_size=3),\n",
    "            nn.BatchNorm2d(16),\n",
    "            nn.ReLU(),\n",
    "            nn.Conv2d(16, 32, stride=2, kernel_size=3),\n",
    "            nn.BatchNorm2d(32),\n",
    "            nn.ReLU(),\n",
    "            nn.Conv2d(32, 64, stride=2, kernel_size=3),\n",
    "            nn.BatchNorm2d(64),\n",
    "            nn.ReLU()\n",
    "        )\n",
    "\n",
    "        self.classifier = nn.Linear(64 * 3 * 3, 10)\n",
    "\n",
    "    def forward(self, x):\n",
    "        x = self.convs(x)\n",
    "        x = x.view(-1, 64 * 3 * 3)\n",
    "        return self.classifier(x)\n",
    "\n",
    "\n",
    "model = SimpleModel()\n",
    "\n",
    "print(sum(p.numel() for p in model.parameters() if p.requires_grad))\n",
    "print(3 * 32 * 32 * 45_000)\n",
    "\n",
    "print('# elements per parameter:')\n",
    "for p in model.parameters():\n",
    "    print(p.numel())"
   ]
  },
  {
   "cell_type": "code",
   "execution_count": 8,
   "metadata": {},
   "outputs": [],
   "source": [
    "@torchbearer.callbacks.on_start_epoch\n",
    "def on_start_epoch(state):\n",
    "    if state[torchbearer.EPOCH] == 1:\n",
    "        pprint(state.keys())"
   ]
  },
  {
   "cell_type": "code",
   "execution_count": 9,
   "metadata": {},
   "outputs": [
    {
     "data": {
      "application/vnd.jupyter.widget-view+json": {
       "model_id": "3d0715286eb54759986ca3717ae10275",
       "version_major": 2,
       "version_minor": 0
      },
      "text/plain": [
       "HBox(children=(IntProgress(value=0, max=8), HTML(value='')))"
      ]
     },
     "metadata": {},
     "output_type": "display_data"
    },
    {
     "name": "stdout",
     "output_type": "stream",
     "text": [
      "dict_keys([max_epochs, stop_training, model, criterion, optimizer, metric_list, callback_list, device, dtype, self, history, backward_args, train_generator, validation_generator, test_generator, train_steps, validation_steps, test_steps, train_data, validation_data, test_data, inf_train_loading, loader, epoch, data, sampler, generator, steps, iterator, metrics, t, x, y_true, y_pred, loss])\n",
      "\n"
     ]
    }
   ],
   "source": [
    "optimizer = torch.optim.Adam(filter(lambda p : p.requires_grad, model.parameters()), lr=1e-3)\n",
    "loss = nn.CrossEntropyLoss()\n",
    "cbs = [make_grid, on_start_epoch]\n",
    "n_epochs = 8\n",
    "\n",
    "trial = torchbearer.Trial(model, optimizer, loss, metrics=['acc', 'loss'], callbacks=cbs).to(DEVICE)\n",
    "trial.with_generators(train_generator=train_dl, val_generator=valid_dl, test_generator=test_dl)\n",
    "\n",
    "history = trial.run(epochs=n_epochs, verbose=1)"
   ]
  },
  {
   "cell_type": "code",
   "execution_count": 10,
   "metadata": {},
   "outputs": [
    {
     "data": {
      "text/plain": [
       "(list, 8)"
      ]
     },
     "execution_count": 10,
     "metadata": {},
     "output_type": "execute_result"
    }
   ],
   "source": [
    "type(history), len(history)"
   ]
  },
  {
   "cell_type": "code",
   "execution_count": 11,
   "metadata": {},
   "outputs": [
    {
     "data": {
      "text/plain": [
       "(dict,\n",
       " dict_keys(['running_acc', 'running_loss', 'acc', 'loss', 'val_acc', 'val_loss', 'train_steps', 'validation_steps']))"
      ]
     },
     "execution_count": 11,
     "metadata": {},
     "output_type": "execute_result"
    }
   ],
   "source": [
    "type(history[0]), history[0].keys()"
   ]
  },
  {
   "cell_type": "code",
   "execution_count": 12,
   "metadata": {},
   "outputs": [],
   "source": [
    "get_data = lambda key : pd.DataFrame.from_dict({\n",
    "    'epoch' : list(range(n_epochs)),\n",
    "    key     : [epoch[key] for epoch in history]\n",
    "})\n",
    "\n",
    "plot = lambda key : sns.lineplot(x='epoch', y=key, data=get_data(key))"
   ]
  },
  {
   "cell_type": "code",
   "execution_count": 13,
   "metadata": {},
   "outputs": [
    {
     "data": {
      "text/plain": [
       "<matplotlib.axes._subplots.AxesSubplot at 0x14477eb50>"
      ]
     },
     "execution_count": 13,
     "metadata": {},
     "output_type": "execute_result"
    },
    {
     "data": {
      "image/png": "[encoded data removed]",
      "text/plain": [
       "<Figure size 432x288 with 1 Axes>"
      ]
     },
     "metadata": {
      "needs_background": "light"
     },
     "output_type": "display_data"
    }
   ],
   "source": [
    "plot('acc')"
   ]
  },
  {
   "cell_type": "code",
   "execution_count": 14,
   "metadata": {},
   "outputs": [
    {
     "data": {
      "text/plain": [
       "<matplotlib.axes._subplots.AxesSubplot at 0x132cd26d0>"
      ]
     },
     "execution_count": 14,
     "metadata": {},
     "output_type": "execute_result"
    },
    {
     "data": {
      "image/png": "[encoded data removed]",
      "text/plain": [
       "<Figure size 432x288 with 1 Axes>"
      ]
     },
     "metadata": {
      "needs_background": "light"
     },
     "output_type": "display_data"
    }
   ],
   "source": [
    "plot('val_acc')"
   ]
  },
  {
   "cell_type": "code",
   "execution_count": null,
   "metadata": {},
   "outputs": [],
   "source": []
  }
 ],
 "metadata": {
  "kernelspec": {
   "display_name": "Python 3",
   "language": "python",
   "name": "python3"
  },
  "language_info": {
   "codemirror_mode": {
    "name": "ipython",
    "version": 3
   },
   "file_extension": ".py",
   "mimetype": "text/x-python",
   "name": "python",
   "nbconvert_exporter": "python",
   "pygments_lexer": "ipython3",
   "version": "3.7.4"
  }
 },
 "nbformat": 4,
 "nbformat_minor": 2
}
